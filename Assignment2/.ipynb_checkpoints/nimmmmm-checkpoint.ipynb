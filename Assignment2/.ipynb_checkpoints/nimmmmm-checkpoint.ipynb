{
 "cells": [
  {
   "cell_type": "code",
   "execution_count": 7,
   "metadata": {},
   "outputs": [
    {
     "ename": "TypeError",
     "evalue": "'dict' object is not callable",
     "output_type": "error",
     "traceback": [
      "\u001b[0;31m---------------------------------------------------------------------------\u001b[0m",
      "\u001b[0;31mTypeError\u001b[0m                                 Traceback (most recent call last)",
      "\u001b[0;32m<ipython-input-7-cc90ee4b2487>\u001b[0m in \u001b[0;36m<module>\u001b[0;34m\u001b[0m\n\u001b[1;32m      7\u001b[0m \u001b[0;34m\u001b[0m\u001b[0m\n\u001b[1;32m      8\u001b[0m \u001b[0mkeep_track\u001b[0m\u001b[0;34m(\u001b[0m\u001b[0;34m)\u001b[0m\u001b[0;34m\u001b[0m\u001b[0;34m\u001b[0m\u001b[0m\n\u001b[0;32m----> 9\u001b[0;31m \u001b[0mplayer\u001b[0m\u001b[0;34m(\u001b[0m\u001b[0;34m)\u001b[0m\u001b[0;34m\u001b[0m\u001b[0;34m\u001b[0m\u001b[0m\n\u001b[0m",
      "\u001b[0;31mTypeError\u001b[0m: 'dict' object is not callable"
     ]
    }
   ],
   "source": [
    "\n",
    "# def keep_track():\n",
    "#     global player\n",
    "player = {'1':[], '2':[] }\n",
    "    \n",
    "    \n",
    "# keep_track()\n",
    "# player()"
   ]
  },
  {
   "cell_type": "code",
   "execution_count": 36,
   "metadata": {},
   "outputs": [
    {
     "name": "stdout",
     "output_type": "stream",
     "text": [
      "[] []\n"
     ]
    }
   ],
   "source": [
    "player = {'1':[], '2':[] }\n",
    "player[0] = []\n",
    "player[1] = []\n",
    "\n",
    "print(player[0], player[1])\n",
    "\n"
   ]
  },
  {
   "cell_type": "code",
   "execution_count": 38,
   "metadata": {},
   "outputs": [
    {
     "name": "stdout",
     "output_type": "stream",
     "text": [
      "enter something: 23\n",
      "['23']\n"
     ]
    }
   ],
   "source": [
    "# track = input('enter something: ')\n",
    "# player[0].append(track)\n",
    "# print(track)\n",
    "\n",
    "player[0].append(input('enter something: '))\n",
    "print(player[0])\n"
   ]
  },
  {
   "cell_type": "code",
   "execution_count": 42,
   "metadata": {},
   "outputs": [
    {
     "name": "stdout",
     "output_type": "stream",
     "text": [
      "['23']\n"
     ]
    }
   ],
   "source": [
    "# player[0].count()\n",
    "print(player[0])"
   ]
  },
  {
   "cell_type": "code",
   "execution_count": 25,
   "metadata": {
    "collapsed": true
   },
   "outputs": [
    {
     "name": "stdout",
     "output_type": "stream",
     "text": [
      "['asdad', '23', '23', '23', '23']\n"
     ]
    },
    {
     "ename": "KeyError",
     "evalue": "1",
     "output_type": "error",
     "traceback": [
      "\u001b[0;31m---------------------------------------------------------------------------\u001b[0m",
      "\u001b[0;31mKeyError\u001b[0m                                  Traceback (most recent call last)",
      "\u001b[0;32m<ipython-input-25-b4b0ec1cb8d1>\u001b[0m in \u001b[0;36m<module>\u001b[0;34m\u001b[0m\n\u001b[1;32m      1\u001b[0m \u001b[0mprint\u001b[0m\u001b[0;34m(\u001b[0m\u001b[0mplayer\u001b[0m\u001b[0;34m[\u001b[0m\u001b[0;36m0\u001b[0m\u001b[0;34m]\u001b[0m\u001b[0;34m)\u001b[0m\u001b[0;34m\u001b[0m\u001b[0;34m\u001b[0m\u001b[0m\n\u001b[0;32m----> 2\u001b[0;31m \u001b[0mprint\u001b[0m\u001b[0;34m(\u001b[0m\u001b[0mplayer\u001b[0m\u001b[0;34m[\u001b[0m\u001b[0;36m1\u001b[0m\u001b[0;34m]\u001b[0m\u001b[0;34m)\u001b[0m\u001b[0;34m\u001b[0m\u001b[0;34m\u001b[0m\u001b[0m\n\u001b[0m",
      "\u001b[0;31mKeyError\u001b[0m: 1"
     ]
    }
   ],
   "source": [
    "print(player[0])\n",
    "print(player[1])"
   ]
  },
  {
   "cell_type": "code",
   "execution_count": null,
   "metadata": {},
   "outputs": [],
   "source": [
    "# player = []\n",
    "# score = []\n",
    "track = int(input('Enter: '))\n",
    "\n",
    "# print(player)\n",
    "# print(score)\n",
    "print(track)"
   ]
  },
  {
   "cell_type": "code",
   "execution_count": null,
   "metadata": {},
   "outputs": [],
   "source": [
    "max = 20\n",
    "min = 0\n",
    "player = ['1', '2']\n",
    "while player in range(max, min):\n",
    "    print(player)"
   ]
  },
  {
   "cell_type": "code",
   "execution_count": null,
   "metadata": {},
   "outputs": [],
   "source": []
  },
  {
   "cell_type": "code",
   "execution_count": 73,
   "metadata": {},
   "outputs": [
    {
     "name": "stdout",
     "output_type": "stream",
     "text": [
      "There are <function score_statement at 0x1060a6c20> stones left \n",
      "\n"
     ]
    }
   ],
   "source": [
    "score_statement = 0\n",
    "player = {'1':[]}\n",
    "\n",
    "def score_statement():\n",
    "    global score_statement\n",
    "    max = 20\n",
    "    min = 0\n",
    "    for i in range(max, min):\n",
    "        print(i)\n",
    "    print('There are ' + str(score_statement) + ' stones left \\n')\n",
    "    \n",
    "score_statement()\n"
   ]
  },
  {
   "cell_type": "code",
   "execution_count": 74,
   "metadata": {},
   "outputs": [
    {
     "ename": "SyntaxError",
     "evalue": "invalid syntax (<ipython-input-74-4e9f9086d037>, line 2)",
     "output_type": "error",
     "traceback": [
      "\u001b[0;36m  File \u001b[0;32m\"<ipython-input-74-4e9f9086d037>\"\u001b[0;36m, line \u001b[0;32m2\u001b[0m\n\u001b[0;31m    print(input_answer)\u001b[0m\n\u001b[0m        ^\u001b[0m\n\u001b[0;31mSyntaxError\u001b[0m\u001b[0;31m:\u001b[0m invalid syntax\n"
     ]
    }
   ],
   "source": [
    "\n",
    "input_answer = int(input('Would you like to remove 1 or 2 stones? ' )\n",
    "print(input_answer)\n",
    "# player.append(input_answer)\n",
    "# print(player[0])\n",
    "\n",
    "for i in range(2):\n",
    "    print(i)\n",
    "\n",
    "\n",
    "input_answer()"
   ]
  },
  {
   "cell_type": "code",
   "execution_count": 218,
   "metadata": {},
   "outputs": [
    {
     "name": "stdout",
     "output_type": "stream",
     "text": [
      "[]\n",
      "0 0\n",
      "[2] [3]\n",
      "{'1': [2], '2': [3]}\n",
      "[2, 21] [3, 300]\n",
      "{'1': [2, 21], '2': [3, 300]}\n",
      "\n",
      "player 1 total:  23 = [2, 21]\n",
      "player 2 total:  303 = [3, 300]\n",
      "\n",
      "\n",
      "player 1\n",
      "player 2\n",
      "\n",
      "\n"
     ]
    },
    {
     "ename": "TypeError",
     "evalue": "'int' object is not callable",
     "output_type": "error",
     "traceback": [
      "\u001b[0;31m---------------------------------------------------------------------------\u001b[0m",
      "\u001b[0;31mTypeError\u001b[0m                                 Traceback (most recent call last)",
      "\u001b[0;32m<ipython-input-218-44d71a497ecd>\u001b[0m in \u001b[0;36m<module>\u001b[0;34m\u001b[0m\n\u001b[1;32m     34\u001b[0m \u001b[0mprint\u001b[0m\u001b[0;34m(\u001b[0m\u001b[0;34m)\u001b[0m\u001b[0;34m\u001b[0m\u001b[0;34m\u001b[0m\u001b[0m\n\u001b[1;32m     35\u001b[0m \u001b[0;34m\u001b[0m\u001b[0m\n\u001b[0;32m---> 36\u001b[0;31m \u001b[0manswer\u001b[0m \u001b[0;34m=\u001b[0m \u001b[0mint\u001b[0m\u001b[0;34m(\u001b[0m\u001b[0minput\u001b[0m\u001b[0;34m(\u001b[0m\u001b[0;34m'num: '\u001b[0m\u001b[0;34m)\u001b[0m\u001b[0;34m)\u001b[0m\u001b[0;34m\u001b[0m\u001b[0;34m\u001b[0m\u001b[0m\n\u001b[0m\u001b[1;32m     37\u001b[0m \u001b[0mprint\u001b[0m\u001b[0;34m(\u001b[0m\u001b[0manswer\u001b[0m\u001b[0;34m)\u001b[0m\u001b[0;34m\u001b[0m\u001b[0;34m\u001b[0m\u001b[0m\n\u001b[1;32m     38\u001b[0m \u001b[0;34m\u001b[0m\u001b[0m\n",
      "\u001b[0;31mTypeError\u001b[0m: 'int' object is not callable"
     ]
    }
   ],
   "source": [
    "player = {'1':[], '2':[]}\n",
    "print(player['1']) \n",
    "\n",
    "p1a = sum(player['1'])\n",
    "p2a = sum(player['2'])\n",
    "print(p1a, p2a)\n",
    "\n",
    "player['1'].append(2)\n",
    "player['2'].append(3)\n",
    "\n",
    "print(player['1'], player['2'])\n",
    "print(player)\n",
    "\n",
    "player['1'].append(21)\n",
    "player['2'].append(300)\n",
    "\n",
    "print(player['1'], player['2'])\n",
    "print(player)\n",
    "print()\n",
    "\n",
    "print('player 1 total: ', sum(player['1']), '=', player['1'])\n",
    "print('player 2 total: ', sum(player['2']), '=', player['2'])\n",
    "\n",
    "print()\n",
    "print()\n",
    "\n",
    "global player_id\n",
    "\n",
    "for player_id in player:\n",
    "    print('player', player_id)  \n",
    "# print('player_id: ', player_id)\n",
    "\n",
    "print()\n",
    "print()\n",
    "\n",
    "answer = int(input('num: '))\n",
    "print(answer)\n",
    "\n",
    "for i in range(1, 2):\n",
    "    if player['1']:\n",
    "        print('player[1]', player['1'])\n",
    "    if player['2']:\n",
    "        print('player[2]', player['2'])\n",
    "\n",
    "print()\n",
    "print()"
   ]
  },
  {
   "cell_type": "code",
   "execution_count": 232,
   "metadata": {},
   "outputs": [
    {
     "name": "stdout",
     "output_type": "stream",
     "text": [
      "[]\n",
      "[]\n",
      "0 0\n",
      "{1: [2], 2: [3]}\n",
      "{1: [2, 21], 2: [3, 300]}\n",
      "\n",
      "1 player total:  23 = [2, 21]\n",
      "2 player total:  303 = [3, 300]\n",
      "\n",
      "\n",
      "\n",
      "\n",
      "player[1] [2, 21]\n",
      "player[2] [3, 300]\n",
      "player[1] [2, 21]\n",
      "player[2] [3, 300]\n",
      "\n",
      "\n"
     ]
    }
   ],
   "source": [
    "player = {1:[], 2:[]}\n",
    "print(player.get(1))\n",
    "print(player[1])\n",
    "\n",
    "p1b = sum(player[1])\n",
    "p2b = sum(player[2])\n",
    "print(p1b, p2b)\n",
    "\n",
    "player[1].append(2)\n",
    "player[2].append(3)\n",
    "\n",
    "print(player)\n",
    "\n",
    "player[1].append(21)\n",
    "player[2].append(300)\n",
    "\n",
    "print(player)\n",
    "print()\n",
    "\n",
    "for i in player:\n",
    "    print(i, 'player total: ', sum(player[i]), '=', player[i])\n",
    "#     print(i, 'player total: ', sum(player[2]), '=', player[2])\n",
    "\n",
    "print()\n",
    "print()\n",
    "\n",
    "# for i in player:\n",
    "#     print(i)\n",
    "    \n",
    "    \n",
    "print()\n",
    "print()\n",
    "\n",
    "for i in player:\n",
    "    if player[1]:\n",
    "        print('player[1]', player[1])\n",
    "    if player[2]:\n",
    "        print('player[2]', player[2])\n",
    "        \n",
    "\n",
    "print()\n",
    "print()"
   ]
  },
  {
   "cell_type": "code",
   "execution_count": 244,
   "metadata": {},
   "outputs": [
    {
     "name": "stdout",
     "output_type": "stream",
     "text": [
      "3\n"
     ]
    }
   ],
   "source": [
    "player = {1:[], 2:[]}\n",
    "\n",
    "if i in player:\n",
    "    print(i +1)"
   ]
  },
  {
   "cell_type": "code",
   "execution_count": 241,
   "metadata": {},
   "outputs": [
    {
     "ename": "SyntaxError",
     "evalue": "'return' outside function (<ipython-input-241-2c922710bd39>, line 5)",
     "output_type": "error",
     "traceback": [
      "\u001b[0;36m  File \u001b[0;32m\"<ipython-input-241-2c922710bd39>\"\u001b[0;36m, line \u001b[0;32m5\u001b[0m\n\u001b[0;31m    return(input == 20)\u001b[0m\n\u001b[0m    ^\u001b[0m\n\u001b[0;31mSyntaxError\u001b[0m\u001b[0;31m:\u001b[0m 'return' outside function\n"
     ]
    }
   ],
   "source": [
    "if input_answer < 20:\n",
    "    print('play again')\n",
    "#         print(player[0].append(input_answer))\n",
    "else:\n",
    "    return(input == 20)"
   ]
  },
  {
   "cell_type": "code",
   "execution_count": 21,
   "metadata": {},
   "outputs": [
    {
     "name": "stdout",
     "output_type": "stream",
     "text": [
      "1\n"
     ]
    }
   ],
   "source": [
    "# count = []\n",
    "if i in range(3):\n",
    "    print(i)"
   ]
  },
  {
   "cell_type": "code",
   "execution_count": 4,
   "metadata": {},
   "outputs": [
    {
     "name": "stdout",
     "output_type": "stream",
     "text": [
      "player_A  {'Player 1': [12]}\n",
      "player_B  {'Player 2': [44]}\n",
      "\n",
      "There are 6 stones left\n",
      "['Player 1'] would you like to remove 1 or 2 stones? 2\n",
      "input_answer:  2\n",
      "\n",
      "calculate:  20 -  14  =  6\n",
      "max_count:  20\n",
      "added_stones:  [12, 2]\n",
      "total_1:  14\n",
      "remainder:  6\n",
      "\n"
     ]
    }
   ],
   "source": [
    "player = [1, 2]\n",
    "player_1 = ['Player 1']\n",
    "player_2 = ['Player 2']\n",
    "\n",
    "stones_1 = [12]\n",
    "stones_2 = [44]\n",
    "\n",
    "player_A = dict.fromkeys(player_1, stones_1)\n",
    "player_B = dict.fromkeys(player_2, stones_2)\n",
    "\n",
    "print('player_A ', player_A)\n",
    "print('player_B ', player_B)\n",
    "print()\n",
    "\n",
    "\n",
    "\n",
    "# --------------------------------------\n",
    "print('There are {} stones left'.format(max_count - total_1))\n",
    "\n",
    "input_answer = int(input('{} would you like to remove 1 or 2 stones? '.format(player_1)))\n",
    "\n",
    "max_count = 20\n",
    "# add_stones = stones_1.append(int(input_answer))\n",
    "stones_1.append(input_answer)\n",
    "\n",
    "total_1 = sum(stones_1)\n",
    "remainder = max_count - total_1\n",
    "\n",
    "print('input_answer: ', input_answer)\n",
    "print()\n",
    "print('calculate: ', max_count, '- ', total_1, ' = ', remainder)\n",
    "print('max_count: ', max_count)\n",
    "print('added_stones: ', stones_1)\n",
    "print('total_1: ', total_1)\n",
    "print('remainder: ', remainder)\n",
    "print()\n",
    "\n"
   ]
  },
  {
   "cell_type": "code",
   "execution_count": 2,
   "metadata": {},
   "outputs": [
    {
     "name": "stdout",
     "output_type": "stream",
     "text": [
      "{'Player 1': [[10], [20]], 'Player 2': [[10], [20]]}\n",
      "Player 1\n",
      "Player 2\n",
      "{'Player 1': []}\n",
      "Player 1\n",
      "Player 2\n"
     ]
    }
   ],
   "source": [
    "player = ['Player 1', 'Player 2']\n",
    "stones = [[10], [20]]\n",
    "\n",
    "keys = dict.fromkeys(player, stones)\n",
    "print(keys)\n",
    "\n",
    "for i in player:\n",
    "    print(i)\n",
    "    \n",
    "player_1 = ['Player 1']\n",
    "stones_1 = []\n",
    "\n",
    "\n",
    "\n",
    "keys = dict.fromkeys(player_1, stones_1)\n",
    "print(keys)\n",
    "\n",
    "\n",
    "for i in range(2):\n",
    "    print(player[i])\n",
    "    \n",
    "for i in stones_1:\n",
    "    input = int(input('num: '))\n",
    "    print(input)\n",
    "    stones_1.append(input)\n",
    "    print(stones_1)\n",
    "    "
   ]
  },
  {
   "cell_type": "code",
   "execution_count": 72,
   "metadata": {},
   "outputs": [
    {
     "name": "stdout",
     "output_type": "stream",
     "text": [
      "Player 1\n",
      "Player 2\n"
     ]
    },
    {
     "ename": "TypeError",
     "evalue": "raw_input() takes from 1 to 2 positional arguments but 3 were given",
     "output_type": "error",
     "traceback": [
      "\u001b[0;31m---------------------------------------------------------------------------\u001b[0m",
      "\u001b[0;31mTypeError\u001b[0m                                 Traceback (most recent call last)",
      "\u001b[0;32m<ipython-input-72-e5f3393fee9d>\u001b[0m in \u001b[0;36m<module>\u001b[0;34m\u001b[0m\n\u001b[1;32m      9\u001b[0m             \u001b[0mprint\u001b[0m\u001b[0;34m(\u001b[0m\u001b[0mplayer\u001b[0m\u001b[0;34m[\u001b[0m\u001b[0;36m1\u001b[0m\u001b[0;34m]\u001b[0m\u001b[0;34m)\u001b[0m\u001b[0;34m\u001b[0m\u001b[0;34m\u001b[0m\u001b[0m\n\u001b[1;32m     10\u001b[0m \u001b[0;34m\u001b[0m\u001b[0m\n\u001b[0;32m---> 11\u001b[0;31m \u001b[0minput_answer\u001b[0m \u001b[0;34m=\u001b[0m \u001b[0mstr\u001b[0m\u001b[0;34m(\u001b[0m\u001b[0minput\u001b[0m\u001b[0;34m(\u001b[0m\u001b[0mplayer_id\u001b[0m\u001b[0;34m(\u001b[0m\u001b[0;34m)\u001b[0m\u001b[0;34m,\u001b[0m \u001b[0;34m'Would you like to remove 1 or 2 stones? '\u001b[0m \u001b[0;34m)\u001b[0m\u001b[0;34m)\u001b[0m\u001b[0;34m\u001b[0m\u001b[0;34m\u001b[0m\u001b[0m\n\u001b[0m\u001b[1;32m     12\u001b[0m \u001b[0mprint\u001b[0m\u001b[0;34m(\u001b[0m\u001b[0minput_answer\u001b[0m\u001b[0;34m)\u001b[0m\u001b[0;34m\u001b[0m\u001b[0;34m\u001b[0m\u001b[0m\n",
      "\u001b[0;31mTypeError\u001b[0m: raw_input() takes from 1 to 2 positional arguments but 3 were given"
     ]
    }
   ],
   "source": [
    "# if player[i] == player[0]:\n",
    "def player_id():\n",
    "    global player_id\n",
    "    for i in range(2):\n",
    "    #     print(player[i])\n",
    "        if player[i] == player[0]:\n",
    "            print(player[0])\n",
    "        else:\n",
    "            print(player[1])\n",
    "        \n",
    "input_answer = str(input(player_id(), 'Would you like to remove 1 or 2 stones? ' ))\n",
    "print(input_answer)"
   ]
  },
  {
   "cell_type": "code",
   "execution_count": 71,
   "metadata": {},
   "outputs": [
    {
     "name": "stdout",
     "output_type": "stream",
     "text": [
      "<function player_id at 0x107781170>string\n"
     ]
    }
   ],
   "source": [
    "a = str(player_id) + 'string'\n",
    "print(a)"
   ]
  },
  {
   "cell_type": "code",
   "execution_count": 77,
   "metadata": {},
   "outputs": [],
   "source": [
    "def score_statement():\n",
    "    global score_statement\n",
    "    global max\n",
    "    max = 20\n",
    "    min = 0\n",
    "\n",
    "    for score_statement in range(max, min):\n",
    "        print(score_statement)\n",
    "    print('There are' + str(score_statement) + 'stones left \\n')\n",
    "\n",
    "def input_answer():\n",
    "    global input_answer\n",
    "    input_answer = player_id() + int(input('Would you like to remove 1 or 2 stones? ' ))\n",
    "    print(input_answer)\n",
    "\n",
    "# validate\n",
    "def keep_track():\n",
    "    while player[0]:\n",
    "        if input_answer < max:\n",
    "            player[0].append(input_answer)\n",
    "            print('player[0]: ', player[0])\n",
    "            remainder = max - input_answer\n",
    "            print('remainder :', remainder)\n",
    "        else:\n",
    "            while input_is_valid:\n",
    "                if (input_answer == max):\n",
    "                    input = int(input('Please enter 1 or 2: '))\n",
    "                    print('Player ' + input + 'wins! \\n Game Over')\n",
    "                else:\n",
    "                    main()\n",
    "\n",
    "def player_id():\n",
    "    for i in range(2):\n",
    "        if player[i] == player[0]:\n",
    "            print(player[0])\n",
    "        else:\n",
    "            print(player[i])"
   ]
  },
  {
   "cell_type": "code",
   "execution_count": 78,
   "metadata": {},
   "outputs": [],
   "source": [
    "player = ['Player 1', 'Player 2']\n",
    "player[0] = []\n",
    "player[1] = []\n",
    "\n",
    "\n",
    "def main():\n",
    "    \"\"\"\n",
    "    You should write your code for this program in this function.\n",
    "    Make sure to delete the 'pass' line before starting to write\n",
    "    your own code. You should also delete this comment and replace\n",
    "    it with a better, more descriptive one.\n",
    "    \"\"\"\n",
    "    score_statement()\n",
    "    input_answer()\n",
    "    keep_track()\n",
    "    # player_id()\n",
    "    # validate()\n",
    "\n",
    "'''\n",
    "Helper Functions\n",
    "'''\n",
    "\n",
    "def score_statement():\n",
    "    global score_statement\n",
    "    global max\n",
    "    max = 20\n",
    "    min = 0\n",
    "\n",
    "    for score_statement in range(max, min):\n",
    "        print(score_statement)\n",
    "    print('There are' + str(score_statement) + 'stones left \\n')\n",
    "\n",
    "def input_answer():\n",
    "    global input_answer\n",
    "    for i in range(2):\n",
    "        if player[i] == player[0]:\n",
    "            print(player[0])\n",
    "            input_answer = player[0] + int(input('Would you like to remove 1 or 2 stones? '))\n",
    "            print(input_answer)\n",
    "        else:\n",
    "            print(player[i])\n",
    "            input_answer = player[i] + int(input('Would you like to remove 1 or 2 stones? ' ))\n",
    "            print(input_answer)\n",
    "\n",
    "# validate\n",
    "def keep_track():\n",
    "    if input_answer < max:\n",
    "        player[0].append(input_answer)\n",
    "        print('player[0]: ', player[0])\n",
    "        remainder = max - input_answer\n",
    "        print('remainder :', remainder)\n",
    "    else:\n",
    "        while input_is_valid:\n",
    "            if (input_answer == max):\n",
    "                input = int(input('Please enter 1 or 2: '))\n",
    "                print('Player ' + input + 'wins! \\n Game Over')\n",
    "            else:\n",
    "                main()"
   ]
  },
  {
   "cell_type": "code",
   "execution_count": null,
   "metadata": {},
   "outputs": [],
   "source": []
  }
 ],
 "metadata": {
  "kernelspec": {
   "display_name": "Python 3",
   "language": "python",
   "name": "python3"
  },
  "language_info": {
   "codemirror_mode": {
    "name": "ipython",
    "version": 3
   },
   "file_extension": ".py",
   "mimetype": "text/x-python",
   "name": "python",
   "nbconvert_exporter": "python",
   "pygments_lexer": "ipython3",
   "version": "3.7.6"
  }
 },
 "nbformat": 4,
 "nbformat_minor": 4
}
