{
 "cells": [
  {
   "cell_type": "code",
   "execution_count": 1,
   "metadata": {},
   "outputs": [],
   "source": [
    "import random"
   ]
  },
  {
   "cell_type": "code",
   "execution_count": 21,
   "metadata": {},
   "outputs": [],
   "source": [
    "min = 1\n",
    "max = 99\n",
    "\n",
    "pass_count = []\n",
    "\n",
    "num1 = random.randint(min, max)\n",
    "num2 = random.randint(min, max)\n",
    "total = num1 + num2\n",
    "total = str(num1 + num2)"
   ]
  },
  {
   "cell_type": "code",
   "execution_count": null,
   "metadata": {},
   "outputs": [],
   "source": [
    "def question():\n",
    "#     num1 = random.randint(min, max)\n",
    "#     num2 = random.randint(min, max)\n",
    "#     total = num1 + num2\n",
    "#     total = str(num1 + num2)\n",
    "\n",
    "    print('What is ' + str(num1) + ' + ' + str(num2) + '?')\n",
    "    print(total)\n",
    "\n",
    "question()"
   ]
  },
  {
   "cell_type": "code",
   "execution_count": null,
   "metadata": {},
   "outputs": [],
   "source": [
    "def answer():\n",
    "    input_answer = int(input('Your answer: '))\n",
    "    print(input_answer)\n",
    "    \n",
    "answer()"
   ]
  },
  {
   "cell_type": "code",
   "execution_count": null,
   "metadata": {},
   "outputs": [],
   "source": [
    "print(input_answer)"
   ]
  },
  {
   "cell_type": "code",
   "execution_count": null,
   "metadata": {},
   "outputs": [],
   "source": [
    "def correct():\n",
    "    if (int(total) == int(input_answer)):\n",
    "        pass_count.append('passed')\n",
    "        passed = '\\n Correct! You\\'ve gotten -' + str(count_pass()) + '- correct in a row.'\n",
    "        print(passed)\n",
    "\n",
    "correct()"
   ]
  },
  {
   "cell_type": "code",
   "execution_count": null,
   "metadata": {},
   "outputs": [],
   "source": [
    "def validate():\n",
    "    if correct():\n",
    "        print(passed)\n",
    "        pass_check()\n",
    "    else:\n",
    "#         incorrect()\n",
    "        # print('next question')\n",
    "        print(failed)\n",
    "        \n",
    "validate()\n",
    "print(total)"
   ]
  },
  {
   "cell_type": "code",
   "execution_count": null,
   "metadata": {},
   "outputs": [],
   "source": [
    "def incorrect():\n",
    "    if not (int(total) == int(input_answer)):\n",
    "        failed = 'Incorrect. The expected answer is ' + str(total)\n",
    "        print(failed)\n",
    "\n",
    "# incorrect()"
   ]
  },
  {
   "cell_type": "code",
   "execution_count": null,
   "metadata": {},
   "outputs": [],
   "source": [
    "# correct answers 3 in a row, wins the game\n",
    "\n",
    "# pass_count = []\n",
    "\n",
    "def game_check():\n",
    "    pass_check = len(pass_count)\n",
    "    if (pass_check == 3):\n",
    "        print('Congratulations! You mastered addition.')\n",
    "    else:\n",
    "        # print('not gameover yet')\n",
    "        play_game()\n",
    "\n",
    "# game_check()"
   ]
  },
  {
   "cell_type": "code",
   "execution_count": null,
   "metadata": {},
   "outputs": [],
   "source": [
    "def count_pass():\n",
    "    for i in range(1, 4, 1):\n",
    "        print(i)\n",
    "        \n",
    "# count_pass()\n",
    "\n"
   ]
  },
  {
   "cell_type": "code",
   "execution_count": null,
   "metadata": {},
   "outputs": [],
   "source": []
  },
  {
   "cell_type": "code",
   "execution_count": null,
   "metadata": {},
   "outputs": [],
   "source": []
  },
  {
   "cell_type": "code",
   "execution_count": null,
   "metadata": {},
   "outputs": [],
   "source": []
  },
  {
   "cell_type": "code",
   "execution_count": null,
   "metadata": {},
   "outputs": [],
   "source": []
  },
  {
   "cell_type": "code",
   "execution_count": null,
   "metadata": {},
   "outputs": [],
   "source": [
    "def play_game():\n",
    "    question()\n",
    "    answer()\n",
    "    validate()\n",
    "    game_check()\n",
    "    \n",
    "while play_game():\n",
    "    play_game()"
   ]
  },
  {
   "cell_type": "code",
   "execution_count": null,
   "metadata": {},
   "outputs": [],
   "source": []
  }
 ],
 "metadata": {
  "kernelspec": {
   "display_name": "Python 3",
   "language": "python",
   "name": "python3"
  },
  "language_info": {
   "codemirror_mode": {
    "name": "ipython",
    "version": 3
   },
   "file_extension": ".py",
   "mimetype": "text/x-python",
   "name": "python",
   "nbconvert_exporter": "python",
   "pygments_lexer": "ipython3",
   "version": "3.7.6"
  }
 },
 "nbformat": 4,
 "nbformat_minor": 4
}
